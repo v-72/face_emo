{
 "metadata": {
  "name": "Untitled1"
 },
 "nbformat": 3,
 "nbformat_minor": 0,
 "worksheets": [
  {
   "cells": [
    {
     "cell_type": "code",
     "collapsed": false,
     "input": "import time \nimport requests\nimport cv2\nimport operator\nimport numpy as np\n\n# Import library to display results\nimport matplotlib.pyplot as plt\n%matplotlib inline \nimport requests.packages.urllib3\nrequests.packages.urllib3.disable_warnings()\n# Display images within Jupyter\n\n_url = 'https://api.projectoxford.ai/emotion/v1.0/recognize'\n_key = \"f48684512c624aaeb3d3fadff6f5f006\" #Here you have to paste your primary key\n_maxNumRetries = 10\n\nurlImage = 'https://scontent-hkg3-1.xx.fbcdn.net/hphotos-xfa1/v/t1.0-9/12418057_1129064750460767_2377002256503624139_n.jpg?oh=2c81f2c9c189a049dc5d55bae6337458&oe=57BF338D'\n\n# Emotion parameters\nparams = { } \n\nheaders = dict()\nheaders['Ocp-Apim-Subscription-Key'] = _key\nheaders['Content-Type'] = 'application/json' \n\njson = { 'url': urlImage } \n\nretries = 0\nresult = None\n\nwhile True:\n \n    response = requests.request( 'post', _url,json=json,data = None,headers = headers,params = params )\n\n    if response.status_code == 429: \n        \n        print \"Message: %s\" % ( response.json()['error']['message'] )\n        \n        if retries <= _maxNumRetries: \n            time.sleep(1) \n            retries += 1\n            continue\n        else: \n            print 'Error: failed after retrying!'\n            break\n\n    elif response.status_code == 200 or response.status_code == 201:\n        if 'content-length' in response.headers and int(response.headers['content-length']) == 0: \n            result = None \n        elif 'content-type' in response.headers and isinstance(response.headers['content-type'], str): \n            if 'application/json' in response.headers['content-type'].lower(): \n                result = response.json() if response.content else None \n            elif 'image' in response.headers['content-type'].lower(): \n                result = response.content\n    else:\n        print \"Error code: %d\" % ( response.status_code )\n        print \"Message: %s\" % ( response.json()['error']['message'] )\n        \n    break\nprint result",
     "language": "python",
     "metadata": {},
     "outputs": [
      {
       "output_type": "stream",
       "stream": "stdout",
       "text": "[{u'faceRectangle': {u'width': 188, u'top': 232, u'left': 90, u'height': 188}, u'scores': {u'sadness': 1.15722823e-05, u'neutral': 0.983132064, u'contempt': 0.000251275254, u'disgust': 2.18197442e-06, u'anger': 3.84428716e-07, u'surprise': 5.11591279e-05, u'fear': 5.42393828e-08, u'happiness': 0.0165513121}}, {u'faceRectangle': {u'width': 152, u'top': 308, u'left': 742, u'height': 152}, u'scores': {u'sadness': 1.42538667e-07, u'neutral': 4.55927375e-06, u'contempt': 2.485236e-05, u'disgust': 1.5975391e-07, u'anger': 5.271605e-07, u'surprise': 1.61639431e-08, u'fear': 3.4291836e-09, u'happiness': 0.9999697}}, {u'faceRectangle': {u'width': 112, u'top': 293, u'left': 427, u'height': 112}, u'scores': {u'sadness': 0.0004811769, u'neutral': 0.7761241, u'contempt': 0.0109594967, u'disgust': 3.16699952e-05, u'anger': 7.060634e-05, u'surprise': 5.398573e-05, u'fear': 6.40333155e-07, u'happiness': 0.212278292}}, {u'faceRectangle': {u'width': 110, u'top': 169, u'left': 587, u'height': 110}, u'scores': {u'sadness': 0.00244990946, u'neutral': 0.314989179, u'contempt': 0.0178511385, u'disgust': 0.00157768256, u'anger': 0.0008431907, u'surprise': 0.000477832858, u'fear': 2.94194415e-05, u'happiness': 0.6617816}}, {u'faceRectangle': {u'width': 98, u'top': 147, u'left': 759, u'height': 98}, u'scores': {u'sadness': 0.0346805677, u'neutral': 0.661067963, u'contempt': 0.09581961, u'disgust': 0.007662517, u'anger': 0.005491954, u'surprise': 0.000511925144, u'fear': 0.000169406645, u'happiness': 0.194596037}}, {u'faceRectangle': {u'width': 94, u'top': 157, u'left': 311, u'height': 94}, u'scores': {u'sadness': 2.888209e-06, u'neutral': 0.22117497, u'contempt': 0.00225346116, u'disgust': 2.54369729e-06, u'anger': 1.27948317e-06, u'surprise': 4.3858945e-06, u'fear': 8.255002e-09, u'happiness': 0.7765605}}, {u'faceRectangle': {u'width': 83, u'top': 150, u'left': 389, u'height': 83}, u'scores': {u'sadness': 2.095441e-05, u'neutral': 0.9941857, u'contempt': 0.00134373608, u'disgust': 1.05545359e-06, u'anger': 6.48975174e-06, u'surprise': 1.21060987e-06, u'fear': 3.48286378e-09, u'happiness': 0.00444086175}}]\n"
      }
     ],
     "prompt_number": 17
    },
    {
     "cell_type": "code",
     "collapsed": false,
     "input": "",
     "language": "python",
     "metadata": {},
     "outputs": [],
     "prompt_number": 12
    },
    {
     "cell_type": "code",
     "collapsed": false,
     "input": "",
     "language": "python",
     "metadata": {},
     "outputs": []
    }
   ],
   "metadata": {}
  }
 ]
}